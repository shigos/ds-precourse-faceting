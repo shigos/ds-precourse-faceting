{
 "cells": [
  {
   "cell_type": "markdown",
   "metadata": {},
   "source": [
    "# Faceting\n",
    "---"
   ]
  },
  {
   "cell_type": "markdown",
   "metadata": {},
   "source": [
    "## Challenges\n",
    "\n",
    "For the lessons on plotting in DSI precourse, instead of doing regular challenges - you're being asked to write the code to make some basic plots in this Jupyter Notebook before committing your work and submitting the URL to your repository.\n",
    "\n",
    "To do so, you must be sure to first fork and clone this repo, and if you aren't sure how to do that, you can look back to those instructions [here.](https://learn-2.galvanize.com/content_link/github/gSchool/dsi-prep-module-setup/units/04_github/03_fork_clone_pull.md)\n",
    "\n",
    "The completion of this module requires a basic understanding of numpy, pandas, and matplotlib.pyplot. Please **_do not_** use any of the pandas built-in visualization tools.\n",
    "\n",
    "Lastly, you'll need to execute the cells with existing code to import the modules, and the data."
   ]
  },
  {
   "cell_type": "markdown",
   "metadata": {},
   "source": [
    "### Challenge 1\n",
    "\n",
    "For this challenge, you will be using the Johnson and Johnson Data set from before. You will need to do a little work to organize this data in a way that is useful for plotting.\n",
    "\n",
    "```\n",
    "      Qtr1  Qtr2  Qtr3  Qtr4\n",
    "      ----  ----  ----  ----\n",
    "1960  0.71  0.63  0.85  0.44\n",
    "1961  0.61  0.69  0.92  0.55\n",
    "1962  0.72  0.77  0.92  0.60\n",
    "1963  0.83  0.80  1.00  0.77\n",
    "1964  0.92  1.00  1.24  1.00\n",
    "1965  1.16  1.30  1.45  1.25\n",
    "1966  1.26  1.38  1.86  1.56\n",
    "1967  1.53  1.59  1.83  1.86\n",
    "1968  1.53  2.07  2.34  2.25\n",
    "1969  2.16  2.43  2.70  2.25\n",
    "1970  2.79  3.42  3.69  3.60\n",
    "1971  3.60  4.32  4.32  4.05\n",
    "1972  4.86  5.04  5.04  4.41\n",
    "1973  5.58  5.85  6.57  5.31\n",
    "1974  6.03  6.39  6.93  5.85\n",
    "1975  6.93  7.74  7.83  6.12\n",
    "1976  7.74  8.91  8.28  6.84\n",
    "1977  9.54 10.26  9.54  8.73\n",
    "1978 11.88 12.06 12.15  8.91\n",
    "1979 14.04 12.96 14.85  9.99\n",
    "1980 16.20 14.67 16.02 11.61\n",
    "\n",
    "```\n",
    "\n",
    "* Create a 4 row and 1 column plot where:\n",
    "    * The first row is a line graph of all the first quater earnings\n",
    "    * The second row is a line graph of all the second quater earnings\n",
    "    * The third row is a line graph of all the third quater earnings\n",
    "    * The fourth row is a line graph of all the fourth quater earnings\n",
    "* All the plots should have a title saying what quarter is being shown\n",
    "* All the plots plots but the final should not have an x-axis, the final plot should only have the even years on the axis\n",
    "* The y-axis should be called \"Earnings\"\n",
    "* The x-axis should be called \"Year\"\n",
    "* The whole plot should be titled \"Johnson and Johnson Quarterly Earnings\"\n"
   ]
  },
  {
   "cell_type": "code",
   "execution_count": 28,
   "metadata": {},
   "outputs": [
    {
     "data": {
      "text/plain": [
       "<Figure size 432x288 with 0 Axes>"
      ]
     },
     "metadata": {},
     "output_type": "display_data"
    },
    {
     "data": {
      "image/png": "[encoded data removed]",
      "text/plain": [
       "<Figure size 432x288 with 4 Axes>"
      ]
     },
     "metadata": {
      "needs_background": "light"
     },
     "output_type": "display_data"
    }
   ],
   "source": [
    "# Your code below (You need to make the appropriate imports of matplotlib and numpy)\n",
    "import pandas as pd\n",
    "import numpy as np\n",
    "from matplotlib import pyplot as plt\n",
    "\n",
    "def make_subplot(subplot, x, y, title, xlab, yaxis_on=False):\n",
    "    subplot.plot(x, y)\n",
    "    subplot.set_title(title)\n",
    "    subplot.set_ylabel(xlab)\n",
    "    subplot.xaxis.set_visible(yaxis_on)\n",
    "    \n",
    "data = \"\"\"\n",
    "        1960  0.71  0.63  0.85  0.44\n",
    "        1961  0.61  0.69  0.92  0.55\n",
    "        1962  0.72  0.77  0.92  0.60\n",
    "        1963  0.83  0.80  1.00  0.77\n",
    "        1964  0.92  1.00  1.24  1.00\n",
    "        1965  1.16  1.30  1.45  1.25\n",
    "        1966  1.26  1.38  1.86  1.56\n",
    "        1967  1.53  1.59  1.83  1.86\n",
    "        1968  1.53  2.07  2.34  2.25\n",
    "        1969  2.16  2.43  2.70  2.25\n",
    "        1970  2.79  3.42  3.69  3.60\n",
    "        1971  3.60  4.32  4.32  4.05\n",
    "        1972  4.86  5.04  5.04  4.41\n",
    "        1973  5.58  5.85  6.57  5.31\n",
    "        1974  6.03  6.39  6.93  5.85\n",
    "        1975  6.93  7.74  7.83  6.12\n",
    "        1976  7.74  8.91  8.28  6.84\n",
    "        1977  9.54 10.26  9.54  8.73\n",
    "        1978 11.88 12.06 12.15  8.91\n",
    "        1979 14.04 12.96 14.85  9.99\n",
    "        1980 16.20 14.67 16.02 11.61\n",
    "\"\"\"\n",
    "\n",
    "\n",
    "data = '''\n",
    "1960  0.71  0.63  0.85  0.44\n",
    "1961  0.61  0.69  0.92  0.55\n",
    "1962  0.72  0.77  0.92  0.60\n",
    "1963  0.83  0.80  1.00  0.77\n",
    "1964  0.92  1.00  1.24  1.00\n",
    "1965  1.16  1.30  1.45  1.25\n",
    "1966  1.26  1.38  1.86  1.56\n",
    "1967  1.53  1.59  1.83  1.86\n",
    "1968  1.53  2.07  2.34  2.25\n",
    "1969  2.16  2.43  2.70  2.25\n",
    "1970  2.79  3.42  3.69  3.60\n",
    "1971  3.60  4.32  4.32  4.05\n",
    "1972  4.86  5.04  5.04  4.41\n",
    "1973  5.58  5.85  6.57  5.31\n",
    "1974  6.03  6.39  6.93  5.85\n",
    "1975  6.93  7.74  7.83  6.12\n",
    "1976  7.74  8.91  8.28  6.84\n",
    "1977  9.54 10.26  9.54  8.73\n",
    "1978 11.88 12.06 12.15  8.91\n",
    "1979 14.04 12.96 14.85  9.99\n",
    "1980 16.20 14.67 16.02 11.61\n",
    "'''\n",
    "\n",
    "data = data.split()\n",
    "\n",
    "year = [int(num) for i, num in enumerate(data) if i % 5 == 0]\n",
    "q1 = [float(num) for i, num in enumerate(data) if i % 5 == 1]\n",
    "q2 = [float(num) for i, num in enumerate(data) if i % 5 == 2]\n",
    "q3 = [float(num) for i, num in enumerate(data) if i % 5 == 3]\n",
    "q4 = [float(num) for i, num in enumerate(data) if i % 5 == 4]\n",
    "\n",
    "df = pd.DataFrame({'year': year, 'q1': q1, 'q2': q2, 'q3': q3, 'q4': q4})\n",
    "\n",
    "fig = plt.figure()\n",
    "\n",
    "fig, (ax1, ax2, ax3, ax4) = plt.subplots(4, 1)\n",
    "\n",
    "make_subplot(ax1, df['year'], df['q1'], '1st Quarter', 'Earnings')\n",
    "make_subplot(ax2, df['year'], df['q2'], '2nd Quarter', 'Earnings')\n",
    "make_subplot(ax3, df['year'], df['q3'], '3rd Quarter', 'Earnings')\n",
    "make_subplot(ax4, df['year'], df['q4'], '4th Quarter', 'Earnings', True)\n",
    "\n",
    "ax4.set_xlabel('Year')\n",
    "ax4.xaxis.set_ticks([1960, 1962, 1964, 1966, 1968, 1970, 1972, 1974, 1976, 1978, 1980])\n",
    "\n",
    "fig.suptitle('Johnson and Johnson Quarterly Earnings', fontsize=12, verticalalignment='top')\n",
    "\n",
    "plt.show()"
   ]
  },
  {
   "cell_type": "markdown",
   "metadata": {},
   "source": [
    "1. Once you're happy with your plot, paste your code in the cell below. Replace `plt.show()` with `plt.savefig('../images/jj_qrtr_earnings.png')` and execute the cell to export the image to a file\n",
    "\n",
    "This is a technique that is not shown in the lesson, but is perhaps the most common way that you might create an image which you are able to share or implement in a presentation."
   ]
  },
  {
   "cell_type": "code",
   "execution_count": 29,
   "metadata": {},
   "outputs": [
    {
     "data": {
      "text/plain": [
       "<Figure size 432x288 with 0 Axes>"
      ]
     },
     "metadata": {},
     "output_type": "display_data"
    }
   ],
   "source": [
    "plt.savefig('../images/jj_qrtr_earnings.png')"
   ]
  },
  {
   "cell_type": "markdown",
   "metadata": {},
   "source": [
    "### Challenge 2\n",
    "\n",
    "For this challenge you will be working with the **cars** data set. Run the cell below to import the data set."
   ]
  },
  {
   "cell_type": "code",
   "execution_count": 31,
   "metadata": {},
   "outputs": [],
   "source": [
    "import numpy as np\n",
    "import matplotlib.pyplot as plt\n",
    "import pandas as pd\n",
    "\n",
    "cars_data = pd.read_csv('../data/cars.csv', sep='|')\n",
    "cars_data.rename(columns={'Unnamed: 0': 'make_model'}, inplace=True)\n",
    "\n",
    "\n"
   ]
  },
  {
   "cell_type": "markdown",
   "metadata": {},
   "source": [
    "For this challenge:\n",
    "* Facet the plots on the number of cylenders each vechical has\n",
    "* Create a single row with with the number of correct plots\n",
    "* Use a scatter plot to show the relation between horse power and quarter mile time\n",
    "* On the x axis plot the horse power\n",
    "* On the y axis plot the the quarter mile time (qsec)\n",
    "* Each plot should have a title saying the number of cylinders\n",
    "* Give each axis an appropriate name"
   ]
  },
  {
   "cell_type": "code",
   "execution_count": 32,
   "metadata": {},
   "outputs": [
    {
     "data": {
      "text/plain": [
       "Text(0, 0.5, 'Seconds to Drive a 1/4 Mi')"
      ]
     },
     "execution_count": 32,
     "metadata": {},
     "output_type": "execute_result"
    },
    {
     "data": {
      "text/plain": [
       "<Figure size 432x288 with 0 Axes>"
      ]
     },
     "metadata": {},
     "output_type": "display_data"
    },
    {
     "data": {
      "image/png": "[encoded data removed]",
      "text/plain": [
       "<Figure size 432x288 with 3 Axes>"
      ]
     },
     "metadata": {
      "needs_background": "light"
     },
     "output_type": "display_data"
    }
   ],
   "source": [
    "\n",
    "# Write your code here\n",
    "sorted_cars = cars_data.sort_values(by='hp')\n",
    "grouped = sorted_cars.groupby('cyl')\n",
    "\n",
    "fig = plt.figure()\n",
    "fig, (ax1, ax2, ax3) = plt.subplots(1, 3)\n",
    "\n",
    "ax1.scatter(grouped.get_group(4)['hp'], grouped.get_group(4)['qsec'])\n",
    "ax2.scatter(grouped.get_group(6)['hp'], grouped.get_group(6)['qsec'])\n",
    "ax3.scatter(grouped.get_group(8)['hp'], grouped.get_group(8)['qsec'])\n",
    "\n",
    "ax1.set_title('4 Cylinder')\n",
    "ax2.set_title('6 Cylinder')\n",
    "ax3.set_title('8 Cylinder')\n",
    "\n",
    "ax1.set_xlabel('Horse Power')\n",
    "ax2.set_xlabel('Horse Power')\n",
    "ax3.set_xlabel('Horse Power')\n",
    "\n",
    "ax1.set_ylabel('Seconds to Drive a 1/4 Mi')"
   ]
  },
  {
   "cell_type": "markdown",
   "metadata": {},
   "source": [
    "1. Once you're happy with your plot, paste your code in the cell below. Replace `plt.show()` with `plt.savefig('../images/facet_cyl_cars.png')` and execute the cell to export the image to a file\n",
    "\n",
    "This is a technique that is not shown in the lesson, but is perhaps the most common way that you might create an image which you are able to share or implement in a presentation."
   ]
  },
  {
   "cell_type": "code",
   "execution_count": 33,
   "metadata": {},
   "outputs": [
    {
     "data": {
      "text/plain": [
       "<Figure size 432x288 with 0 Axes>"
      ]
     },
     "metadata": {},
     "output_type": "display_data"
    }
   ],
   "source": [
    "plt.savefig('../images/facet_cyl_cars.png')"
   ]
  }
 ],
 "metadata": {
  "kernelspec": {
   "display_name": "Python 3",
   "language": "python",
   "name": "python3"
  },
  "language_info": {
   "codemirror_mode": {
    "name": "ipython",
    "version": 3
   },
   "file_extension": ".py",
   "mimetype": "text/x-python",
   "name": "python",
   "nbconvert_exporter": "python",
   "pygments_lexer": "ipython3",
   "version": "3.8.5"
  }
 },
 "nbformat": 4,
 "nbformat_minor": 5
}
